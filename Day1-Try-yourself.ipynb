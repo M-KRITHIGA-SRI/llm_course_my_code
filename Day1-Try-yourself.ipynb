{
 "cells": [
  {
   "cell_type": "code",
   "execution_count": 1,
   "id": "38fe63df-2568-4bc7-b102-511bf74b04aa",
   "metadata": {},
   "outputs": [],
   "source": [
    "import os\n",
    "from dotenv import load_dotenv\n",
    "from openai import OpenAI"
   ]
  },
  {
   "cell_type": "code",
   "execution_count": 2,
   "id": "9677f818-0e5d-4237-9666-a8854d9d9e46",
   "metadata": {},
   "outputs": [],
   "source": [
    "load_dotenv(override=True)\n",
    "api_key=os.getenv(\"OPENAI_API_KEY\")\n",
    "openai=OpenAI()"
   ]
  },
  {
   "cell_type": "code",
   "execution_count": 6,
   "id": "37b7e063-8bfe-40bc-bf9f-178a60661924",
   "metadata": {},
   "outputs": [
    {
     "name": "stdout",
     "output_type": "stream",
     "text": [
      "Subject: Clarification on Assignment 3 - Question 4\n"
     ]
    }
   ],
   "source": [
    "system_prompt = \"You are a assistant that takes the contents of an email and suggests a shorter subject line for the email\"\n",
    "user_prompt = \"\"\"\n",
    "    Dear Professor Sharma,\n",
    "    \n",
    "        I hope you are doing well.\n",
    "        I am writing to request some clarification regarding Question 4 in Assignment 3. I am not sure whether we are expected to use a recursive or iterative approach in the solution.\n",
    "        Could you please confirm the expected method? I would really appreciate your guidance.\n",
    "        \n",
    "    Thank you,  \n",
    "    Krithigasri Murugesan  \n",
    "    B.Sc. Computer Science, Year II\n",
    "    \"\"\"\n",
    "\n",
    "# Step 2: Make the messages list\n",
    "\n",
    "messages = [\n",
    "    {\"role\":\"system\",\"content\":system_prompt},\n",
    "    {\"role\":\"user\",\"content\":user_prompt}\n",
    "] \n",
    "\n",
    "# Step 3: Call OpenAI\n",
    "\n",
    "response = openai.chat.completions.create(model=\"gpt-4o-mini\",messages=messages)\n",
    "\n",
    "# Step 4: print the result\n",
    "\n",
    "print(response.choices[0].message.content)"
   ]
  },
  {
   "cell_type": "code",
   "execution_count": null,
   "id": "0c98eaab-609a-4f4d-ae08-6e348b818bb9",
   "metadata": {},
   "outputs": [],
   "source": []
  }
 ],
 "metadata": {
  "kernelspec": {
   "display_name": "Python 3 (ipykernel)",
   "language": "python",
   "name": "python3"
  },
  "language_info": {
   "codemirror_mode": {
    "name": "ipython",
    "version": 3
   },
   "file_extension": ".py",
   "mimetype": "text/x-python",
   "name": "python",
   "nbconvert_exporter": "python",
   "pygments_lexer": "ipython3",
   "version": "3.11.13"
  }
 },
 "nbformat": 4,
 "nbformat_minor": 5
}
