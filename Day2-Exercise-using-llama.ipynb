{
 "cells": [
  {
   "cell_type": "code",
   "execution_count": 1,
   "id": "53420cd2-cbe8-4a65-931c-44ab7ec61fa5",
   "metadata": {},
   "outputs": [],
   "source": [
    "import requests\n",
    "from bs4 import BeautifulSoup\n",
    "from IPython.display import Markdown,display\n"
   ]
  },
  {
   "cell_type": "code",
   "execution_count": 2,
   "id": "c246e249-6b5d-4722-ba7f-fc6a8a6d4708",
   "metadata": {},
   "outputs": [],
   "source": [
    "OLLAMA_API=\"http://localhost:11434/api/chat\"\n",
    "MODEL=\"llama3.2\"\n",
    "HEADERS = {\"Content-Type\": \"application/json\"}\n"
   ]
  },
  {
   "cell_type": "code",
   "execution_count": 3,
   "id": "d5b95ae4-a964-4a7d-be09-c3c7c83bccc0",
   "metadata": {},
   "outputs": [],
   "source": [
    "class Website:\n",
    "    def __init__(self,url):\n",
    "        self.url=url\n",
    "        response=requests.get(url,headers=HEADERS)\n",
    "        soup=BeautifulSoup(response.content,'html.parser')\n",
    "        self.title=soup.title.string if soup.title else \"No title found\"\n",
    "        for irrelevant in soup.body(['script','img','input','style']):\n",
    "            irrelevant.decompose()\n",
    "        self.text= soup.body.get_text(separator=\"\\n\",strip=True)"
   ]
  },
  {
   "cell_type": "code",
   "execution_count": 4,
   "id": "8c88376f-8155-42e8-96f0-9e741164773e",
   "metadata": {},
   "outputs": [],
   "source": [
    "system_prompt = \"You are an assistant that analyzes the contents of a website \\\n",
    "and provides a short summary, ignoring text that might be navigation related. \\\n",
    "Respond in markdown and in tamil and english.\""
   ]
  },
  {
   "cell_type": "code",
   "execution_count": 5,
   "id": "55f09cd1-da47-454f-ad63-ad89e84ee9cc",
   "metadata": {},
   "outputs": [],
   "source": [
    "def user_prompt_for(website):\n",
    "    user_prompt=f\"You are looking at the website {website.title}\"\n",
    "    user_prompt+=\"\\nThe contents of the website are provided below;Please provide a short summary of the website in markdown in tamil and english.\\n\\n\"\n",
    "    user_prompt+=website.text\n",
    "    return user_prompt"
   ]
  },
  {
   "cell_type": "code",
   "execution_count": 6,
   "id": "6576e916-92e1-4fe9-85a0-04c496028872",
   "metadata": {},
   "outputs": [],
   "source": [
    "def messages_for(website):\n",
    "      return [\n",
    "        {\"role\": \"system\", \"content\": system_prompt},\n",
    "        {\"role\": \"user\", \"content\": user_prompt_for(website)}\n",
    "    ]"
   ]
  },
  {
   "cell_type": "code",
   "execution_count": 7,
   "id": "9bf25bcd-bcc6-4e82-8867-d9558deba6a8",
   "metadata": {},
   "outputs": [],
   "source": [
    "def payload_for(website):\n",
    "    return {\n",
    "         \"model\": MODEL,\n",
    "        \"messages\": messages_for(website),\n",
    "        \"stream\": False\n",
    "    }\n"
   ]
  },
  {
   "cell_type": "code",
   "execution_count": 12,
   "id": "ab528f65-4414-4c6f-bfb2-b4faf23fc1fe",
   "metadata": {},
   "outputs": [],
   "source": [
    "def summarize(url):\n",
    "    website = Website(url)\n",
    "    response = requests.post(OLLAMA_API, json=payload_for(website), headers=HEADERS)\n",
    "    result = response.json()\n",
    "    return result[\"message\"][\"content\"]\n",
    "\n"
   ]
  },
  {
   "cell_type": "code",
   "execution_count": null,
   "id": "756dc511-e25d-418a-a9c1-2e608b8792cc",
   "metadata": {},
   "outputs": [],
   "source": [
    "summary = summarize(\"https://edwarddonner.com\")\n",
    "display(Markdown(summary))"
   ]
  },
  {
   "cell_type": "code",
   "execution_count": null,
   "id": "32d2b7f9-50f4-497a-802f-5961d9591b47",
   "metadata": {},
   "outputs": [],
   "source": []
  }
 ],
 "metadata": {
  "kernelspec": {
   "display_name": "Python 3 (ipykernel)",
   "language": "python",
   "name": "python3"
  },
  "language_info": {
   "codemirror_mode": {
    "name": "ipython",
    "version": 3
   },
   "file_extension": ".py",
   "mimetype": "text/x-python",
   "name": "python",
   "nbconvert_exporter": "python",
   "pygments_lexer": "ipython3",
   "version": "3.11.13"
  }
 },
 "nbformat": 4,
 "nbformat_minor": 5
}
