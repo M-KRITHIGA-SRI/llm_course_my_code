{
 "cells": [
  {
   "cell_type": "code",
   "execution_count": 18,
   "id": "25dd86d9-cd5a-4ca7-8892-f97ffd0feb97",
   "metadata": {},
   "outputs": [
    {
     "name": "stdout",
     "output_type": "stream",
     "text": [
      "✅ OpenAI API key loaded (starts with sk-proj-)\n"
     ]
    },
    {
     "name": "stderr",
     "output_type": "stream",
     "text": [
      "C:\\Users\\DELL\\anaconda3\\envs\\llms\\Lib\\site-packages\\gradio\\interface.py:415: UserWarning: The `allow_flagging` parameter in `Interface` is deprecated. Use `flagging_mode` instead.\n",
      "  warnings.warn(\n"
     ]
    },
    {
     "name": "stdout",
     "output_type": "stream",
     "text": [
      "* Running on local URL:  http://127.0.0.1:7889\n",
      "* To create a public link, set `share=True` in `launch()`.\n"
     ]
    },
    {
     "data": {
      "text/html": [
       "<div><iframe src=\"http://127.0.0.1:7889/\" width=\"100%\" height=\"500\" allow=\"autoplay; camera; microphone; clipboard-read; clipboard-write;\" frameborder=\"0\" allowfullscreen></iframe></div>"
      ],
      "text/plain": [
       "<IPython.core.display.HTML object>"
      ]
     },
     "metadata": {},
     "output_type": "display_data"
    },
    {
     "data": {
      "text/plain": []
     },
     "execution_count": 18,
     "metadata": {},
     "output_type": "execute_result"
    },
    {
     "name": "stderr",
     "output_type": "stream",
     "text": [
      "C:\\Users\\DELL\\AppData\\Local\\Temp\\ipykernel_18324\\3394524894.py:91: DeprecationWarning: Due to a bug, this method doesn't actually stream the response content, `.with_streaming_response.method()` should be used instead\n",
      "  response.stream_to_file(speech_file.name)\n",
      "C:\\Users\\DELL\\AppData\\Local\\Temp\\ipykernel_18324\\213000604.py:110: DeprecationWarning: Due to a bug, this method doesn't actually stream the response content, `.with_streaming_response.method()` should be used instead\n",
      "  response.stream_to_file(speech_file.name)\n"
     ]
    }
   ],
   "source": [
    "\n",
    "import os\n",
    "import requests\n",
    "from dotenv import load_dotenv\n",
    "from openai import OpenAI\n",
    "from IPython.display import Markdown, display\n",
    "import gradio as gr\n",
    "import tempfile\n",
    "import google.generativeai as genai\n",
    "\n",
    "# Load environment variables\n",
    "load_dotenv(override=True)\n",
    "google_api_key = os.getenv('GOOGLE_API_KEY')\n",
    "openai_api_key = os.getenv(\"OPENAI_API_KEY\")\n",
    "if openai_api_key:\n",
    "    print(f\"✅ OpenAI API key loaded (starts with {openai_api_key[:8]})\")\n",
    "else:\n",
    "    print(\"⚠️ OpenAI API key not found!\")\n",
    "\n",
    "openai = OpenAI()\n",
    "google.generativeai.configure()\n",
    "# --- Models ---\n",
    "MODEL_GPT = \"gpt-4o-mini\"\n",
    "\n",
    "# --- System message ---\n",
    "system_prompt = (\n",
    "    \"You are a knowledgeable teaching assistant who explains code and computer science \"\n",
    "    \"concepts clearly, step-by-step, with examples when helpful.\"\n",
    ")\n",
    "\n",
    "# --- Streaming for GPT ---\n",
    "def stream_gpt(prompt):\n",
    "    messages = [\n",
    "        {\"role\": \"system\", \"content\": system_prompt},\n",
    "        {\"role\": \"user\", \"content\": prompt}\n",
    "    ]\n",
    "    stream = openai.chat.completions.create(\n",
    "        model=MODEL_GPT,\n",
    "        messages=messages,\n",
    "        stream=True,\n",
    "    )\n",
    "    result = \"\"\n",
    "    for chunk in stream:\n",
    "        if chunk.choices[0].delta.content:\n",
    "            result += chunk.choices[0].delta.content\n",
    "            yield result\n",
    "\n",
    "\n",
    "gemini_via_openai_client = OpenAI(\n",
    "    api_key=google_api_key, \n",
    "    base_url=\"https://generativelanguage.googleapis.com/v1beta/openai/\"\n",
    ")\n",
    "def gemini_simple(prompt):\n",
    "    # Prepare system + user messages\n",
    "    messages = [\n",
    "        {\"role\": \"system\", \"content\": system_prompt},\n",
    "        {\"role\": \"user\", \"content\": prompt}\n",
    "    ]\n",
    "\n",
    "    # Call Gemini via the OpenAI-compatible API\n",
    "    response = gemini_via_openai_client.chat.completions.create(\n",
    "        model=\"gemini-2.5-flash\",\n",
    "        messages=messages\n",
    "    )\n",
    "\n",
    "    # Extract and return the text\n",
    "    return response.choices[0].message.content\n",
    "\n",
    "\n",
    "def stream_gemini(prompt):\n",
    "    messages = [\n",
    "        {\"role\": \"system\", \"content\": system_prompt},\n",
    "        {\"role\": \"user\", \"content\": prompt}\n",
    "    ]\n",
    "\n",
    "    # Start streaming completion from Gemini via OpenAI-compatible API\n",
    "    stream = gemini_via_openai_client.chat.completions.create(\n",
    "        model=\"gemini-2.5-flash\",\n",
    "        messages=messages,\n",
    "        stream=True  # important: enables incremental streaming\n",
    "    )\n",
    "\n",
    "    partial_output = \"\"\n",
    "    for event in stream:\n",
    "        # Each chunk has 'delta' content\n",
    "        if event.choices[0].delta.content:\n",
    "            partial_output += event.choices[0].delta.content\n",
    "            yield partial_output\n",
    "\n",
    "# --- Unified streaming function ---\n",
    "def stream_answer(question, model_choice):\n",
    "    prompt = f\"Explain the following code snippet or concept:\\n{question}\"\n",
    "    if model_choice == \"GPT\":\n",
    "        result = stream_gpt(prompt)\n",
    "    elif model_choice == \"Gemini\":\n",
    "        result = stream_gemini(prompt)  \n",
    "    else:\n",
    "        raise ValueError(\"Unknown model\")\n",
    "    yield from result\n",
    "\n",
    "# --- Text-to-Speech (Audio Output) ---\n",
    "def text_to_speech(text):\n",
    "    if not text:\n",
    "        return None\n",
    "    speech_file = tempfile.NamedTemporaryFile(delete=False, suffix=\".mp3\")\n",
    "    response = openai.audio.speech.create(\n",
    "        model=\"gpt-4o-mini-tts\",\n",
    "        voice=\"alloy\",\n",
    "        input=text\n",
    "    )\n",
    "    response.stream_to_file(speech_file.name)\n",
    "    return speech_file.name\n",
    "\n",
    "# --- Combined logic for Gradio ---\n",
    "def full_pipeline( text, model_choice):\n",
    "   \n",
    "    answer = \"\"\n",
    "    for chunk in stream_answer(text, model_choice):\n",
    "        answer = chunk\n",
    "\n",
    "    audio_output = text_to_speech(answer)\n",
    "    return answer, audio_output\n",
    "\n",
    "# --- Gradio UI ---\n",
    "intro = \"\"\"\n",
    "#  Code Teaching Assistant  \n",
    "Ask or speak a Python, coding, or computer science question.  \n",
    "Choose GPT or Gemini.  \n",
    "The assistant explains it step-by-step — and speaks back to you!\n",
    "\"\"\"\n",
    "\n",
    "ui = gr.Interface(\n",
    "    fn=full_pipeline,\n",
    "    inputs=[\n",
    "        gr.Textbox(label=\" Type your question/code:\", lines=5, placeholder=\"Paste code or ask a CS question...\"),\n",
    "        gr.Dropdown([\"GPT\", \"Gemini\"], label=\" Select Model\", value=\"GPT\")\n",
    "    ],\n",
    "    outputs=[\n",
    "        gr.Markdown(label=\" Explanation\"),\n",
    "        gr.Audio(label=\" Spoken Response\")\n",
    "    ],\n",
    "    title=\"Code & CS Teaching Assistant\",\n",
    "    description=intro,\n",
    "    allow_flagging=\"never\",\n",
    ")\n",
    "\n",
    "ui.launch(inbrowser=True)\n"
   ]
  },
  {
   "cell_type": "code",
   "execution_count": null,
   "id": "d5725e37-6dc4-4028-ac84-9a3111ba743b",
   "metadata": {},
   "outputs": [],
   "source": []
  }
 ],
 "metadata": {
  "kernelspec": {
   "display_name": "Python 3 (ipykernel)",
   "language": "python",
   "name": "python3"
  },
  "language_info": {
   "codemirror_mode": {
    "name": "ipython",
    "version": 3
   },
   "file_extension": ".py",
   "mimetype": "text/x-python",
   "name": "python",
   "nbconvert_exporter": "python",
   "pygments_lexer": "ipython3",
   "version": "3.11.13"
  }
 },
 "nbformat": 4,
 "nbformat_minor": 5
}
