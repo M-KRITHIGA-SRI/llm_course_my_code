{
 "cells": [
  {
   "cell_type": "code",
   "execution_count": 1,
   "id": "c578da51-13d8-4454-b598-422f6132b197",
   "metadata": {},
   "outputs": [],
   "source": [
    "import requests\n",
    "from dotenv import load_dotenv\n",
    "from openai import OpenAI\n",
    "from IPython.display import Markdown,display\n",
    "import ollama"
   ]
  },
  {
   "cell_type": "code",
   "execution_count": 2,
   "id": "8630f57c-95c1-4342-a380-2534296cc204",
   "metadata": {},
   "outputs": [],
   "source": [
    "load_dotenv()\n",
    "openai=OpenAI()"
   ]
  },
  {
   "cell_type": "code",
   "execution_count": 3,
   "id": "f3d9a9e4-3b52-4a13-b493-c6e2ffa70a98",
   "metadata": {},
   "outputs": [],
   "source": [
    "MODEL_GPT = 'gpt-4o-mini'\n",
    "MODEL_LLAMA = 'llama3.2'"
   ]
  },
  {
   "cell_type": "code",
   "execution_count": 4,
   "id": "79fa0003-60fb-4d65-b72c-68f74a3c35dd",
   "metadata": {},
   "outputs": [],
   "source": [
    "\n",
    "question = \"\"\"\n",
    "Please explain what this code does and why:\n",
    "yield from {book.get(\"author\") for book in books if book.get(\"author\")}\n",
    "\"\"\""
   ]
  },
  {
   "cell_type": "code",
   "execution_count": 5,
   "id": "f471253b-8f1d-43b9-9f05-440ae4e00df5",
   "metadata": {},
   "outputs": [],
   "source": [
    "system_prompt=\"You are a teaching assistant that answers questions regarding python,computer science ,coding\"\n",
    "user_prompt= \"Explain the following code snippet\"+ question"
   ]
  },
  {
   "cell_type": "code",
   "execution_count": 6,
   "id": "72e97112-992a-486d-a5d7-cfc58cd583ce",
   "metadata": {},
   "outputs": [],
   "source": [
    "messages = [\n",
    "    {\"role\": \"system\", \"content\": system_prompt},\n",
    "    {\"role\": \"user\", \"content\": user_prompt}\n",
    "]"
   ]
  },
  {
   "cell_type": "code",
   "execution_count": 7,
   "id": "a7f3dde8-f24a-4196-aca4-1eeeb63d02f2",
   "metadata": {},
   "outputs": [
    {
     "data": {
      "text/markdown": [
       "This code snippet uses Python's generator functionality along with a set comprehension to extract a specific piece of data from a collection of dictionaries (which in this case look like books). Let's break it down:\n",
       "\n",
       "### 1. `books`\n",
       "We can assume that `books` is a list (or another iterable) of dictionaries where each dictionary represents a book. Each book dictionary may contain various keys, one of which is likely named \"author\".\n",
       "\n",
       "### 2. `book.get(\"author\") for book in books`\n",
       "This part of the code iterates through each `book` in the `books` iterable and retrieves the value associated with the key \"author\" using the `get` method. The `get` method will return either the value for \"author\" or `None` if there is no such key.\n",
       "\n",
       "### 3. `if book.get(\"author\")`\n",
       "This is a filtering condition. It ensures that only books that have a valid (not `None`) \"author\" will be included in the set comprehension. If a book does not have an \"author\", it will be skipped.\n",
       "\n",
       "### 4. `{... for book in books if book.get(\"author\")}`\n",
       "This entire line is a set comprehension that constructs a set of unique author names (or values) from the `books` iterable. The result will be a set containing all distinct authors that were found.\n",
       "\n",
       "### 5. `yield from`\n",
       "The `yield from` expression is used in a generator. It allows a generator to yield all values from an iterable (in this case, the set of authors) to whoever is consuming the generator. This means that when the generator created with this `yield from` expression is called, it will yield each author one at a time.\n",
       "\n",
       "### Summary\n",
       "Putting it all together, this code snippet:\n",
       "\n",
       "- Creates a set of unique authors from the `books` collection, filtering out any books that do not have authors.\n",
       "- Uses `yield from` to yield each author one by one when called, effectively making the result a generator that yields unique authors.\n",
       "\n",
       "### Use Case\n",
       "This pattern is often used when processing data streams or large datasets where you want to avoid loading everything into memory at once. By yielding authors one by one, this can help conserve memory and improve efficiency."
      ],
      "text/plain": [
       "<IPython.core.display.Markdown object>"
      ]
     },
     "metadata": {},
     "output_type": "display_data"
    }
   ],
   "source": [
    "response = openai.chat.completions.create(model=MODEL_GPT, messages=messages)\n",
    "display(Markdown(response.choices[0].message.content))"
   ]
  },
  {
   "cell_type": "code",
   "execution_count": null,
   "id": "aba79824-2974-4971-9729-9136588dec8d",
   "metadata": {},
   "outputs": [],
   "source": [
    "response = ollama.chat(model=MODEL_LLAMA, messages=messages)\n",
    "reply = response['message']['content']\n",
    "display(Markdown(reply))"
   ]
  }
 ],
 "metadata": {
  "kernelspec": {
   "display_name": "Python 3 (ipykernel)",
   "language": "python",
   "name": "python3"
  },
  "language_info": {
   "codemirror_mode": {
    "name": "ipython",
    "version": 3
   },
   "file_extension": ".py",
   "mimetype": "text/x-python",
   "name": "python",
   "nbconvert_exporter": "python",
   "pygments_lexer": "ipython3",
   "version": "3.11.13"
  }
 },
 "nbformat": 4,
 "nbformat_minor": 5
}
